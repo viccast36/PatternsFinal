{
 "cells": [
  {
   "cell_type": "code",
   "execution_count": 46,
   "metadata": {},
   "outputs": [],
   "source": [
    "import pandas as pd\n",
    "import numpy as np\n",
    "import seaborn as sns\n",
    "import matplotlib.pyplot as plt\n",
    "from pathlib import Path\n",
    "from scipy import stats\n",
    "from sklearn.model_selection import GridSearchCV, train_test_split, cross_val_score\n",
    "from sklearn.neighbors import KNeighborsClassifier\n",
    "from sklearn.preprocessing import StandardScaler\n",
    "from sklearn.feature_selection import SelectKBest, chi2\n",
    "from sklearn.decomposition import PCA"
   ]
  },
  {
   "cell_type": "code",
   "execution_count": 8,
   "metadata": {},
   "outputs": [],
   "source": [
    "# load a file that uses , as delimiter\n",
    "def load_file(path, names):\n",
    "    if not path.is_file():\n",
    "        raise FileNotFoundError(str(path))\n",
    "    data = pd.read_csv(path, sep=\",\", names=names, header=None)\n",
    "    return data\n",
    "\n",
    "# load data for hmm\n",
    "def load_df():\n",
    "    cols = [\"ID\", \"Clump Thickness\",\"Uniformity of Cell Size\", \"Uniformity of Cell Shape\", \"Marginal Adhesion\", \"Single Epithelial Cell Size\", \"Bare Nuclei\", \"Bland Chromatin\",\"Normal Nucleoli\", \"Mitoses\", \"Class\"]\n",
    "    file = Path.cwd() / \"breast-cancer-wisconsin.csv\"\n",
    "    return load_file(file, cols)\n",
    "\n",
    "# removes any rows that have empty data slots ie null\n",
    "def remove_empty_rows(data):\n",
    "    data.dropna(axis=0, how='any', thresh=None, subset=None, inplace=True)\n",
    "    return data\n",
    "\n",
    "# removes outliers based on zscore greater than 3\n",
    "def remove_outliers_Zscore(data):\n",
    "    z = np.abs(stats.zscore(data))\n",
    "    data_df_z_out =data[(z<3).all(axis=1)]\n",
    "    return data_df_z_out\n",
    "\n",
    "# removes outliers based on IQR\n",
    "def remove_outliers_IQR(data):\n",
    "    Q1 = data.quantile(.25)\n",
    "    Q3 = data.quantile(.75)\n",
    "    IQR = Q3-Q1\n",
    "    data_df_IQR_out = data[~((data < (Q1 - 1.5 * IQR)) |(data > (Q3 + 1.5 * IQR))).any(axis=1)]\n",
    "    return data_df_IQR_out\n",
    "    \n",
    "# graphs histogram\n",
    "def plotHistogram(data):\n",
    "    data.hist(bins=50, color='steelblue', edgecolor='black', linewidth=1.0,\n",
    "        xlabelsize=8, ylabelsize=8, grid=False)    \n",
    "    return plt.tight_layout(rect=(0, 0, 1.2, 1.2)) \n",
    "\n",
    "# makes a 2d graph comparing all pairs of features in dataframe\n",
    "def plot2dScatter(data):\n",
    "    return sns.pairplot(data,diag_kind=\"kde\")"
   ]
  },
  {
   "cell_type": "code",
   "execution_count": 9,
   "metadata": {},
   "outputs": [
    {
     "data": {
      "text/plain": [
       "Clump Thickness                  int64\n",
       "Uniformity of Cell Size          int64\n",
       "Uniformity of Cell Shape         int64\n",
       "Marginal Adhesion                int64\n",
       "Single Epithelial Cell Size      int64\n",
       "Bare Nuclei                    float64\n",
       "Bland Chromatin                  int64\n",
       "Normal Nucleoli                  int64\n",
       "Mitoses                          int64\n",
       "Class                            int64\n",
       "dtype: object"
      ]
     },
     "execution_count": 9,
     "metadata": {},
     "output_type": "execute_result"
    }
   ],
   "source": [
    "data = load_df()\n",
    "\n",
    "data = data.drop(columns=[\"ID\"])\n",
    "\n",
    "data.dtypes\n",
    "\n"
   ]
  },
  {
   "cell_type": "code",
   "execution_count": 21,
   "metadata": {},
   "outputs": [
    {
     "name": "stdout",
     "output_type": "stream",
     "text": [
      "Current datasize before cleaning 632\n",
      "Current data size after removing outliers 594\n"
     ]
    }
   ],
   "source": [
    "#uncomment to see histogram of data\n",
    "#hist = plotHistogram(data)\n",
    "print(\"Current datasize before cleaning\" , data.shape[0])\n",
    "data = remove_empty_rows(data)\n",
    "\n",
    "\n",
    "#uncomment to see data b4 cleaning in 2d graph\n",
    "#plot2d = plot2dScatter(data)\n",
    "\n",
    "\n",
    "\n",
    "#print(\"Removing outliers using z-score\")\n",
    "\n",
    "#data = remove_outliers_IQR(data)\n",
    "data = remove_outliers_Zscore(data)\n",
    "print(\"Current data size after removing outliers\", data.shape[0])\n",
    "\n",
    "#Uncomment this to look at 2d plot of cleaned data\n",
    "#plot2d = plot2dScatter(data)\n",
    "\n",
    "data.groupby(\"Class\").ClumpThickness.plot(kind='kde', ax=axs[1])"
   ]
  },
  {
   "cell_type": "markdown",
   "metadata": {},
   "source": [
    "## C. Feature Analysis\n",
    "\n",
    "### i. Correlation Analysis: heat map"
   ]
  },
  {
   "cell_type": "code",
   "execution_count": 22,
   "metadata": {},
   "outputs": [
    {
     "data": {
      "image/png": "[encoded data removed]",
      "text/plain": [
       "<Figure size 432x288 with 2 Axes>"
      ]
     },
     "metadata": {
      "needs_background": "light"
     },
     "output_type": "display_data"
    }
   ],
   "source": [
    "data_corr = data.corr()\n",
    "hmap = sns.heatmap(data_corr)"
   ]
  },
  {
   "cell_type": "markdown",
   "metadata": {},
   "source": [
    "### ii. Univariate Selection"
   ]
  },
  {
   "cell_type": "code",
   "execution_count": 57,
   "metadata": {},
   "outputs": [
    {
     "name": "stdout",
     "output_type": "stream",
     "text": [
      "3 Best Features: ['Uniformity of Cell Size', 'Uniformity of Cell Shape', 'Bare Nuclei']\n"
     ]
    }
   ],
   "source": [
    "X = data.drop(data.columns[-1],axis=1)\n",
    "\n",
    "k = 3\n",
    "select = SelectKBest(chi2, k=k)\n",
    "X_new = select.fit_transform(X, data['Class'])\n",
    "col_names = [column[0] for column in zip(X.columns, select.get_support()) if column[1]]\n",
    "\n",
    "print(f\"{k} Best Features: {col_names}\")"
   ]
  },
  {
   "cell_type": "markdown",
   "metadata": {},
   "source": [
    "## D. Principal Component Analysis"
   ]
  },
  {
   "cell_type": "code",
   "execution_count": 58,
   "metadata": {},
   "outputs": [
    {
     "data": {
      "text/html": [
       "<div>\n",
       "<style scoped>\n",
       "    .dataframe tbody tr th:only-of-type {\n",
       "        vertical-align: middle;\n",
       "    }\n",
       "\n",
       "    .dataframe tbody tr th {\n",
       "        vertical-align: top;\n",
       "    }\n",
       "\n",
       "    .dataframe thead th {\n",
       "        text-align: right;\n",
       "    }\n",
       "</style>\n",
       "<table border=\"1\" class=\"dataframe\">\n",
       "  <thead>\n",
       "    <tr style=\"text-align: right;\">\n",
       "      <th></th>\n",
       "      <th>principal component 1</th>\n",
       "      <th>principal component 2</th>\n",
       "      <th>Class</th>\n",
       "    </tr>\n",
       "  </thead>\n",
       "  <tbody>\n",
       "    <tr>\n",
       "      <td>0</td>\n",
       "      <td>-2.938614</td>\n",
       "      <td>-0.393179</td>\n",
       "      <td>2.0</td>\n",
       "    </tr>\n",
       "    <tr>\n",
       "      <td>1</td>\n",
       "      <td>6.253226</td>\n",
       "      <td>-4.297274</td>\n",
       "      <td>2.0</td>\n",
       "    </tr>\n",
       "    <tr>\n",
       "      <td>2</td>\n",
       "      <td>-3.097724</td>\n",
       "      <td>-0.505529</td>\n",
       "      <td>2.0</td>\n",
       "    </tr>\n",
       "    <tr>\n",
       "      <td>3</td>\n",
       "      <td>6.595249</td>\n",
       "      <td>3.866749</td>\n",
       "      <td>2.0</td>\n",
       "    </tr>\n",
       "    <tr>\n",
       "      <td>4</td>\n",
       "      <td>-2.601533</td>\n",
       "      <td>-0.181959</td>\n",
       "      <td>2.0</td>\n",
       "    </tr>\n",
       "    <tr>\n",
       "      <td>...</td>\n",
       "      <td>...</td>\n",
       "      <td>...</td>\n",
       "      <td>...</td>\n",
       "    </tr>\n",
       "    <tr>\n",
       "      <td>694</td>\n",
       "      <td>NaN</td>\n",
       "      <td>NaN</td>\n",
       "      <td>2.0</td>\n",
       "    </tr>\n",
       "    <tr>\n",
       "      <td>695</td>\n",
       "      <td>NaN</td>\n",
       "      <td>NaN</td>\n",
       "      <td>2.0</td>\n",
       "    </tr>\n",
       "    <tr>\n",
       "      <td>696</td>\n",
       "      <td>NaN</td>\n",
       "      <td>NaN</td>\n",
       "      <td>4.0</td>\n",
       "    </tr>\n",
       "    <tr>\n",
       "      <td>697</td>\n",
       "      <td>NaN</td>\n",
       "      <td>NaN</td>\n",
       "      <td>4.0</td>\n",
       "    </tr>\n",
       "    <tr>\n",
       "      <td>698</td>\n",
       "      <td>NaN</td>\n",
       "      <td>NaN</td>\n",
       "      <td>4.0</td>\n",
       "    </tr>\n",
       "  </tbody>\n",
       "</table>\n",
       "<p>692 rows × 3 columns</p>\n",
       "</div>"
      ],
      "text/plain": [
       "     principal component 1  principal component 2  Class\n",
       "0                -2.938614              -0.393179    2.0\n",
       "1                 6.253226              -4.297274    2.0\n",
       "2                -3.097724              -0.505529    2.0\n",
       "3                 6.595249               3.866749    2.0\n",
       "4                -2.601533              -0.181959    2.0\n",
       "..                     ...                    ...    ...\n",
       "694                    NaN                    NaN    2.0\n",
       "695                    NaN                    NaN    2.0\n",
       "696                    NaN                    NaN    4.0\n",
       "697                    NaN                    NaN    4.0\n",
       "698                    NaN                    NaN    4.0\n",
       "\n",
       "[692 rows x 3 columns]"
      ]
     },
     "execution_count": 58,
     "metadata": {},
     "output_type": "execute_result"
    }
   ],
   "source": [
    "pca = PCA(n_components=2)\n",
    "principal_components = pca.fit_transform(X)\n",
    "principal_df = pd.DataFrame(data = principal_components, columns = ['principal component 1', 'principal component 2'])\n",
    "final_df = pd.concat([principal_df, data['Class']], axis=1)\n",
    "final_df"
   ]
  },
  {
   "cell_type": "code",
   "execution_count": 62,
   "metadata": {},
   "outputs": [
    {
     "data": {
      "image/png": "[encoded data removed]",
      "text/plain": [
       "<Figure size 576x576 with 1 Axes>"
      ]
     },
     "metadata": {
      "needs_background": "light"
     },
     "output_type": "display_data"
    }
   ],
   "source": [
    "fig = plt.figure(figsize = (8,8))\n",
    "ax = fig.add_subplot(1,1,1) \n",
    "ax.set_xlabel('Principal Component 1', fontsize = 10)\n",
    "ax.set_ylabel('Principal Component 2', fontsize = 10)\n",
    "ax.set_title('2 component PCA', fontsize = 15)\n",
    "targets = [2.0, 4.0]\n",
    "colors = ['r', 'b']\n",
    "for target, color in zip(targets,colors):\n",
    "    indices = final_df['Class'] == target\n",
    "    ax.scatter(final_df.loc[indices, 'principal component 1'], final_df.loc[indices, 'principal component 2'], c = color, s = 50)\n",
    "ax.legend(targets)\n",
    "ax.grid()"
   ]
  },
  {
   "cell_type": "markdown",
   "metadata": {},
   "source": [
    "## Training, Validation, Testing\n"
   ]
  },
  {
   "cell_type": "code",
   "execution_count": 63,
   "metadata": {},
   "outputs": [],
   "source": [
    "X_train, X_test, y_train, y_test = train_test_split(X, data['Class'], test_size=0.2, stratify=y)\n"
   ]
  }
 ],
 "metadata": {
  "kernelspec": {
   "display_name": "Python 3",
   "language": "python",
   "name": "python3"
  },
  "language_info": {
   "codemirror_mode": {
    "name": "ipython",
    "version": 3
   },
   "file_extension": ".py",
   "mimetype": "text/x-python",
   "name": "python",
   "nbconvert_exporter": "python",
   "pygments_lexer": "ipython3",
   "version": "3.7.3"
  }
 },
 "nbformat": 4,
 "nbformat_minor": 2
}
